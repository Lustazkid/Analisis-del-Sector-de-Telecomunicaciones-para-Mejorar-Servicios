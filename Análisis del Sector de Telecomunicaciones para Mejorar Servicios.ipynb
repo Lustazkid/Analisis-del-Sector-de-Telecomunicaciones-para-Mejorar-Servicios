{
 "cells": [
  {
   "cell_type": "code",
   "execution_count": 1,
   "metadata": {},
   "outputs": [
    {
     "name": "stdout",
     "output_type": "stream",
     "text": [
      "\n"
     ]
    }
   ],
   "source": [
    "import pandas as pd\n",
    "import os\n",
    "import warnings\n",
    "\n",
    "# Suprimir advertencias de conversión de fechas\n",
    "warnings.simplefilter(action='ignore', category=UserWarning)\n",
    "\n",
    "# Definir las rutas de los archivos\n",
    "input_dir = r\"C:\\Users\\Joseph´S - PC\\OneDrive\\Escritorio\\Proyecto Henry 2\"\n",
    "output_dir = r\"C:\\Users\\Joseph´S - PC\\OneDrive\\Escritorio\\Proyecto Henry 2\\Procesados\"\n",
    "\n",
    "# Obtener lista de archivos .xlsx en el directorio\n",
    "xlsx_files = [f for f in os.listdir(input_dir) if f.endswith('.xlsx')]\n",
    "\n",
    "# Asegurarse de que el directorio de salida existe\n",
    "os.makedirs(output_dir, exist_ok=True)\n",
    "\n",
    "print()\n",
    "\n"
   ]
  },
  {
   "cell_type": "code",
   "execution_count": 2,
   "metadata": {},
   "outputs": [],
   "source": [
    "for file in xlsx_files:\n",
    "    # Leer el archivo .xlsx en un diccionario de DataFrames (cada hoja se convierte en un DataFrame)\n",
    "    file_path = os.path.join(input_dir, file)\n",
    "    df_sheets = pd.read_excel(file_path, sheet_name=None)  # Carga todas las hojas\n",
    "    \n",
    "    # Crear un diccionario para almacenar las hojas procesadas\n",
    "    processed_sheets = {}\n",
    "    \n",
    "    # Paso 2: Convertir columnas numéricas y de fecha para cada hoja\n",
    "    for sheet_name, df in df_sheets.items():\n",
    "        # Procesar las columnas del DataFrame\n",
    "        for column in df.columns:\n",
    "            try:\n",
    "                # Intentar convertir a numérico\n",
    "                df[column] = pd.to_numeric(df[column])\n",
    "            except ValueError:\n",
    "                pass  # Si no es posible convertir a numérico, no hacer nada\n",
    "\n",
    "            try:\n",
    "                # Intentar convertir a fecha\n",
    "                df[column] = pd.to_datetime(df[column])\n",
    "            except ValueError:\n",
    "                pass  # Si no es posible convertir a fecha, no hacer nada\n",
    "        \n",
    "        # Almacenar la hoja procesada en el diccionario\n",
    "        processed_sheets[sheet_name] = df\n",
    "    \n",
    "    # Paso 3: Guardar todas las hojas procesadas en un nuevo archivo .xlsx\n",
    "    processed_file_path = os.path.join(output_dir, f\"procesado_{file}\")\n",
    "    with pd.ExcelWriter(processed_file_path, engine='xlsxwriter') as writer:\n",
    "        for sheet_name, processed_df in processed_sheets.items():\n",
    "            processed_df.to_excel(writer, sheet_name=sheet_name, index=False)\n"
   ]
  },
  {
   "cell_type": "code",
   "execution_count": 3,
   "metadata": {},
   "outputs": [
    {
     "name": "stdout",
     "output_type": "stream",
     "text": [
      "Archivo: Internet.xlsx\n",
      "Archivo: mapa_conectividad.xlsx\n",
      "Archivo: Portabilidad.xlsx\n",
      "Archivo: servicios_postales.xlsx\n",
      "Archivo: telefonia_fija.xlsx\n",
      "Archivo: Telefonia_movil.xlsx\n",
      "Archivo: Television.xlsx\n"
     ]
    }
   ],
   "source": [
    "import pandas as pd\n",
    "import os\n",
    "import warnings\n",
    "\n",
    "# Suprimir advertencias de conversión de fechas\n",
    "warnings.simplefilter(action='ignore', category=UserWarning)\n",
    "\n",
    "# Definir las rutas de los archivos\n",
    "input_dir = r\"C:\\Users\\Joseph´S - PC\\OneDrive\\Escritorio\\Proyecto Henry 2\"\n",
    "\n",
    "# Obtener lista de archivos .xlsx en el directorio y omitir los que contienen '(1)' en su nombre\n",
    "xlsx_files = [f for f in os.listdir(input_dir) if f.endswith('.xlsx') and \"(1)\" not in f]\n",
    "\n",
    "# Procesar cada archivo\n",
    "for file in xlsx_files:\n",
    "    file_path = os.path.join(input_dir, file)\n",
    "    try:\n",
    "        # Leer todas las hojas del archivo\n",
    "        excel_data = pd.ExcelFile(file_path)\n",
    "        print(f\"Archivo: {file}\")\n",
    "        \n",
    "    except Exception as e:\n",
    "        print(f\"Error al procesar el archivo {file}: {e}\")\n",
    "\n",
    "\n"
   ]
  }
 ],
 "metadata": {
  "kernelspec": {
   "display_name": "Python 3",
   "language": "python",
   "name": "python3"
  },
  "language_info": {
   "codemirror_mode": {
    "name": "ipython",
    "version": 3
   },
   "file_extension": ".py",
   "mimetype": "text/x-python",
   "name": "python",
   "nbconvert_exporter": "python",
   "pygments_lexer": "ipython3",
   "version": "3.13.0"
  }
 },
 "nbformat": 4,
 "nbformat_minor": 2
}
